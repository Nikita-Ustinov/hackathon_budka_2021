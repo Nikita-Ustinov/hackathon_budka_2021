{
 "cells": [
  {
   "cell_type": "code",
   "execution_count": 5,
   "metadata": {},
   "outputs": [],
   "source": [
    "from typing import List"
   ]
  },
  {
   "cell_type": "code",
   "execution_count": 2,
   "metadata": {},
   "outputs": [
    {
     "name": "stdout",
     "output_type": "stream",
     "text": [
      "Q: Na jak dlouho potřebujete v Českých Budějovicích vaše auto zaparkovat?\n",
      "O: Krátkodobé parkování : 1\n",
      "O: Dlouhodobé parkování : 2\n",
      "\n",
      "\n",
      "\n",
      "A: 1: \n",
      "Zjistěte, kde najdete nejbližší vhodné parkování. Můžete jej pak zaplatit pohodlně na webu nebo přes mobilní aplikaci.\n",
      "O: Zobrazit záchytná a kapacitní parkoviště: https://www.parkovanicb.cz/kratkodobe-parkovani/zachytna-parkoviste\n",
      "O: Zobrazit mapu tarifních zón: https://www.parkovanicb.cz/kratkodobe-parkovani/tarifni-zony\n",
      "O: Koupit parkovací lístek: 3\n",
      "\n",
      "\n",
      "\n",
      "\n",
      "A: 3\n",
      "Zaplatit parkování můžete na místě v parkomatu. Velmi doporučujeme mobilní aplikaci Sejf, kde je placení opravdu snadné. Zaplatit se dá také přímo online na webu přes jednoduchý formulář. \n",
      "O: Mobilní Aplikace Sejf: Nákup jízdenek na městskou hromadnou dopravu nebo zaplacení parkovacího oprávnění pomocí mobilního telefonu a aplikace sejf. Sejf si stáhnete zdarma pro operační systémy iOS nebo Android. https://www.dpmcb.cz/cestovani-mhd/koupit-jizdenky/mobilni-aplikace-sejf.html\n",
      "O: Koupit parkovací lístek na webu: Virtuální parkovací hodiny: https://podk.parkovanicb.cz/VPH/Home/Index/CB/\n",
      "\n",
      "\n",
      "\n",
      "\n",
      "2: Proč potřebujete v Českých Budějovicích parkovat často? \n",
      "O: Trvale zde bydlím :  https://www.parkovanicb.cz/dlouhodobe-parkovani/rezidenti\n",
      "O: Vlastním zde nemovitost : https://www.parkovanicb.cz/dlouhodobe-parkovani/vlastnici-nemovitosti\n",
      "O: Mám zde sídlo podnikání : https://www.parkovanicb.cz/dlouhodobe-parkovani/abonenti\n",
      "O: Pečuji o jinou osobu : https://www.parkovanicb.cz/dlouhodobe-parkovani/pecovatele\n"
     ]
    }
   ],
   "source": [
    "with open('Dialogs/Parkovani.txt') as f:\n",
    "    contents = f.read()\n",
    "    print(contents)"
   ]
  },
  {
   "cell_type": "code",
   "execution_count": 17,
   "metadata": {},
   "outputs": [
    {
     "data": {
      "text/plain": [
       "['Q: Na jak dlouho potřebujete v Českých Budějovicích vaše auto zaparkovat?',\n",
       " 'O: Krátkodobé parkování : 1',\n",
       " 'O: Dlouhodobé parkování : 2',\n",
       " '',\n",
       " '',\n",
       " '',\n",
       " 'A: 1: ',\n",
       " 'Zjistěte, kde najdete nejbližší vhodné parkování. Můžete jej pak zaplatit pohodlně na webu nebo přes mobilní aplikaci.',\n",
       " 'O: Zobrazit záchytná a kapacitní parkoviště: https://www.parkovanicb.cz/kratkodobe-parkovani/zachytna-parkoviste',\n",
       " 'O: Zobrazit mapu tarifních zón: https://www.parkovanicb.cz/kratkodobe-parkovani/tarifni-zony',\n",
       " 'O: Koupit parkovací lístek: 3',\n",
       " '',\n",
       " '',\n",
       " '',\n",
       " '',\n",
       " 'A: 3',\n",
       " 'Zaplatit parkování můžete na místě v parkomatu. Velmi doporučujeme mobilní aplikaci Sejf, kde je placení opravdu snadné. Zaplatit se dá také přímo online na webu přes jednoduchý formulář. ',\n",
       " 'O: Mobilní Aplikace Sejf: Nákup jízdenek na městskou hromadnou dopravu nebo zaplacení parkovacího oprávnění pomocí mobilního telefonu a aplikace sejf. Sejf si stáhnete zdarma pro operační systémy iOS nebo Android. https://www.dpmcb.cz/cestovani-mhd/koupit-jizdenky/mobilni-aplikace-sejf.html',\n",
       " 'O: Koupit parkovací lístek na webu: Virtuální parkovací hodiny: https://podk.parkovanicb.cz/VPH/Home/Index/CB/',\n",
       " '',\n",
       " '',\n",
       " '',\n",
       " '',\n",
       " '2: Proč potřebujete v Českých Budějovicích parkovat často? ',\n",
       " 'O: Trvale zde bydlím :  https://www.parkovanicb.cz/dlouhodobe-parkovani/rezidenti',\n",
       " 'O: Vlastním zde nemovitost : https://www.parkovanicb.cz/dlouhodobe-parkovani/vlastnici-nemovitosti',\n",
       " 'O: Mám zde sídlo podnikání : https://www.parkovanicb.cz/dlouhodobe-parkovani/abonenti',\n",
       " 'O: Pečuji o jinou osobu : https://www.parkovanicb.cz/dlouhodobe-parkovani/pecovatele']"
      ]
     },
     "execution_count": 17,
     "metadata": {},
     "output_type": "execute_result"
    }
   ],
   "source": [
    "contents_1 = contents.split('\\n')\n",
    "contents_1"
   ]
  },
  {
   "cell_type": "code",
   "execution_count": 3,
   "metadata": {},
   "outputs": [],
   "source": [
    "class Question:\n",
    "    def __init__(self, text: str, answers: list):\n",
    "        self.text = text\n",
    "        self.answers = answers   "
   ]
  },
  {
   "cell_type": "code",
   "execution_count": 28,
   "metadata": {},
   "outputs": [
    {
     "name": "stdout",
     "output_type": "stream",
     "text": [
      "1\n",
      "['Q', ' Na jak dlouho potřebujete v Českých Budějovicích vaše auto zaparkovat?']\n",
      "2\n",
      "2\n",
      "2\n",
      "2\n",
      "2\n",
      "2\n",
      "2\n",
      "2\n",
      "2\n",
      "2\n",
      "2\n"
     ]
    }
   ],
   "source": [
    "def create_questions(text: str) -> List[Question]:\n",
    "    question = None\n",
    "    answers = []\n",
    "    output = []\n",
    "    # print(text)\n",
    "    for i, row in enumerate(text): \n",
    "        # print(f'Row_id: {i}, row: {row}')\n",
    "        if len(row) == 0:\n",
    "            continue\n",
    "        elif row[0] == 'Q':\n",
    "            print(f'1')\n",
    "            if question is not None:\n",
    "                print(f'New Q')\n",
    "                output.append(Question(question. answers))\n",
    "                question = None\n",
    "                answers = []\n",
    "            print(row.split(':'))\n",
    "            question = row.split(':')[1].strip()\n",
    "        elif row[0] == 'O':\n",
    "            print(f'2')\n",
    "            assert question is not None\n",
    "            answers.append((row.split(':')[1].strip(), row.split(':')[2].strip()))\n",
    "\n",
    "    return output\n",
    "\n",
    "\n",
    "qs = create_questions(contents_1)"
   ]
  },
  {
   "cell_type": "code",
   "execution_count": 25,
   "metadata": {},
   "outputs": [
    {
     "data": {
      "text/plain": [
       "[]"
      ]
     },
     "execution_count": 25,
     "metadata": {},
     "output_type": "execute_result"
    }
   ],
   "source": [
    "qs"
   ]
  },
  {
   "cell_type": "code",
   "execution_count": null,
   "metadata": {},
   "outputs": [],
   "source": []
  }
 ],
 "metadata": {
  "interpreter": {
   "hash": "37ca0e02801fd09c29446b0a57931fa7c8bd3a33e756703b12919ee4e41e85db"
  },
  "kernelspec": {
   "display_name": "Python 3.8.2 64-bit",
   "name": "python3"
  },
  "language_info": {
   "codemirror_mode": {
    "name": "ipython",
    "version": 3
   },
   "file_extension": ".py",
   "mimetype": "text/x-python",
   "name": "python",
   "nbconvert_exporter": "python",
   "pygments_lexer": "ipython3",
   "version": "3.8.2"
  },
  "metadata": {
   "interpreter": {
    "hash": "752579dbebe7f4dfe7c1aa72eac13e23fc88be2cc1ea7ab14e1f8d69b2d97d12"
   }
  },
  "orig_nbformat": 2
 },
 "nbformat": 4,
 "nbformat_minor": 2
}
